{
 "cells": [
  {
   "cell_type": "code",
   "execution_count": null,
   "metadata": {},
   "outputs": [],
   "source": [
    "point1 = (12, 13)\n",
    "(point := (13, 14))\n",
    "\n",
    "print(point)\n",
    "print(point1)\n",
    "\n",
    "resp1 = {\"data\": \"Data being received!\"}\n",
    "resp2 = {\"data\": None}\n",
    "resp3 = {\"Error\": \"Error 222!\"}\n",
    "response = resp3\n",
    "\n",
    "\n",
    "match response:\n",
    "    case {\"Error\": msg}:\n",
    "        print(f\"Error {msg}\")\n",
    "    case {\"data\": data} if data is not None:\n",
    "        print(f\"Data is received! {data}\")\n",
    "    case _:\n",
    "        print(\"Other\")\n",
    "\n"
   ]
  },
  {
   "cell_type": "code",
   "execution_count": 4,
   "metadata": {},
   "outputs": [
    {
     "name": "stdout",
     "output_type": "stream",
     "text": [
      "max of the list : 51\n",
      "max of the list : 151\n"
     ]
    }
   ],
   "source": [
    "def maximum(lst):\n",
    "    match lst:\n",
    "        case []:\n",
    "            raise ValueError\n",
    "        case [x]:\n",
    "            return x\n",
    "        case [x, *rest] if (y := maximum(rest)) > x:\n",
    "            return y\n",
    "        case [x, *rest]:\n",
    "            return x\n",
    "\n",
    "ls = list((51,2,31,43,5,6,11,0))\n",
    "print(f\"max of the list : {maximum(ls)}\")\n",
    "\n",
    "ls = list([151,2,31,43,5,6,11,100])\n",
    "print(f\"max of the list : {maximum(ls)}\")\n",
    "\n"
   ]
  }
 ],
 "metadata": {
  "kernelspec": {
   "display_name": "Python 3.10.4 ('nlp-projekt')",
   "language": "python",
   "name": "python3"
  },
  "language_info": {
   "codemirror_mode": {
    "name": "ipython",
    "version": 3
   },
   "file_extension": ".py",
   "mimetype": "text/x-python",
   "name": "python",
   "nbconvert_exporter": "python",
   "pygments_lexer": "ipython3",
   "version": "3.10.4"
  },
  "orig_nbformat": 4,
  "vscode": {
   "interpreter": {
    "hash": "00f82ba0a11918a930a7fecd6f4b18fa2272b88c57fdc357425e0a19a574c018"
   }
  }
 },
 "nbformat": 4,
 "nbformat_minor": 2
}
