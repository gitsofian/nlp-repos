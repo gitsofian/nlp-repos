{
 "cells": [
  {
   "cell_type": "code",
   "execution_count": null,
   "metadata": {},
   "outputs": [],
   "source": [
    "point1 = (12, 13)\n",
    "(point := (13, 14))\n",
    "\n",
    "print(point)\n",
    "print(point1)\n",
    "\n",
    "resp1 = {\"data\": \"Data being received!\"}\n",
    "resp2 = {\"data\": None}\n",
    "resp3 = {\"Error\": \"Error 222!\"}\n",
    "response = resp3\n",
    "\n",
    "\n",
    "match response:\n",
    "    case {\"Error\": msg}:\n",
    "        print(f\"Error {msg}\")\n",
    "    case {\"data\": data} if data is not None:\n",
    "        print(f\"Data is received! {data}\")\n",
    "    case _:\n",
    "        print(\"Other\")\n",
    "\n",
    "\n"
   ]
  }
 ],
 "metadata": {
  "kernelspec": {
   "display_name": "Python 3.10.4 ('nlp-projekt')",
   "language": "python",
   "name": "python3"
  },
  "language_info": {
   "name": "python",
   "version": "3.10.4"
  },
  "orig_nbformat": 4,
  "vscode": {
   "interpreter": {
    "hash": "00f82ba0a11918a930a7fecd6f4b18fa2272b88c57fdc357425e0a19a574c018"
   }
  }
 },
 "nbformat": 4,
 "nbformat_minor": 2
}
